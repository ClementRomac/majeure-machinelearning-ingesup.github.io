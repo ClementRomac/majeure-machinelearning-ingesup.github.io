{
 "cells": [
  {
   "cell_type": "markdown",
   "metadata": {},
   "source": [
    "# Résumé d'hier"
   ]
  },
  {
   "cell_type": "raw",
   "metadata": {},
   "source": [
    "machine learning => apprentissage\n",
    "supervisé / non supervisé "
   ]
  },
  {
   "cell_type": "markdown",
   "metadata": {},
   "source": [
    "def ml => réaliser une tâche sans qu'elle ai été expliciement programmé dans ce sens "
   ]
  },
  {
   "cell_type": "raw",
   "metadata": {},
   "source": [
    "supervisé => classification régression\n",
    "non supervisé => clustering \n",
    "overfitting / underfitting "
   ]
  },
  {
   "cell_type": "raw",
   "metadata": {},
   "source": [
    "Cost function, gradient descent "
   ]
  },
  {
   "cell_type": "raw",
   "metadata": {},
   "source": [
    "data cleaning => pas de \"trous\""
   ]
  },
  {
   "cell_type": "raw",
   "metadata": {},
   "source": [
    "feature engineering => one hot encoding : normalisation (0,1) standardisation (-1,1)"
   ]
  },
  {
   "cell_type": "code",
   "execution_count": null,
   "metadata": {},
   "outputs": [],
   "source": []
  },
  {
   "cell_type": "code",
   "execution_count": null,
   "metadata": {},
   "outputs": [],
   "source": []
  }
 ],
 "metadata": {
  "kernelspec": {
   "display_name": "Python 3",
   "language": "python",
   "name": "python3"
  },
  "language_info": {
   "codemirror_mode": {
    "name": "ipython",
    "version": 3
   },
   "file_extension": ".py",
   "mimetype": "text/x-python",
   "name": "python",
   "nbconvert_exporter": "python",
   "pygments_lexer": "ipython3",
   "version": "3.6.4"
  }
 },
 "nbformat": 4,
 "nbformat_minor": 2
}
