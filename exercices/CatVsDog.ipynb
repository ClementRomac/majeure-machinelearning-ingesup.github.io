{
 "cells": [
  {
   "cell_type": "markdown",
   "metadata": {},
   "source": [
    "# Enoncé"
   ]
  },
  {
   "cell_type": "markdown",
   "metadata": {},
   "source": [
    "Bienvenue dans le TP noté du chapitre Deep Learning. Vous allez ici devoir faire la compétition [Chien VS Chat de Kaggle](https://www.kaggle.com/c/dogs-vs-cats-redux-kernels-edition/leaderboard). Vous aurez pour cela deux jours et pouvez vous mettre par équipe (2 maximum).\n",
    "\n",
    "Ce TP a été réalisé avec la librairie Keras qui va vous permettre de créer et d'entrainer des réseaux de neurones facilement. \n",
    "Nous avons également utilisé Tensorboard qui vous permettra de visualiser vos courbes d'apprentissage en semi temps réel. Pour démarrer Tensorboard, démarrez un nouveau Anaconda Prompt, placez-vous dans le même répertoire que ce notebook et exécutez :\n",
    "```\n",
    "tensorboard --logdir=Graph\n",
    "```\n",
    "Accèdez ensuite à l'url indiqué sur le prompt depuis votre navigateur.\n",
    "\n",
    "\n",
    "Voici l'énoncé de ce que vous allez devoir faire :\n",
    "\n",
    "1. Commencez par installer la libraire python OpenCV. Pour cela, arrêtez votre `jupyter lab` et exécutez dans votre Anaconda Prompt `pip install cv2`. Vous pouvez ensuite relancer votre `jupyter lab`.\n",
    "2. Télécharger maintenant les zip de train et de test depuis la compétition Kaggle. Une fois cela fait, dézipé les dans le dossier _datasets_.\n",
    "3. Le code suivant commence par charger ces images et les normaliser. Il crée également nos labels. Vous allez pouvoir réutiliser cette partie tout au long de ce TP.\n",
    "4. Nous vous avons ensuite proposé un réseau de neurones (convolutif). Cependant, il est loin d'être optimal (score de 4.01 sur Kaggle). __A vous de l'améliorer !__ Pour cela, vous allez devoir appliquer ce que nous avons vu en cours. Pour rappel, vous pouvez modifier différentes choses :\n",
    "  - pour les données : Data Augmentation (utiliser Keras pour cela)\n",
    "  - pour l'architecture du réseau : La taille des kernels, le nombre de couches (de convolution et de feedforward), la taille de ces couches, l'optimizer, le dropout et la régularisation en cas d'overfitting (un indice : c'est le cas ici !)...\n",
    "  - pour l'apprentissage : le nombre d'epoch, le batch_size, mettre en place du early stopping...\n",
    "  - Voir même du Transfer Learning à partir d'un réseau déjà entrainé ! (par exemple comme dans [cet article](https://blog.keras.io/building-powerful-image-classification-models-using-very-little-data.html))\n",
    "5. Enfin, nous avons déjà implémenté la partie _Predict_, qui correspond à l'utilisation du modèle sur le jeu de données de test et la création du fichier csv à donner à Kaggle.\n",
    "\n",
    "Votre objectif est simple, obtenez le meilleur réseau de neurones possible ! Et surtout amusez-vous, essayez différentes techniques et n'hésitez pas à regarder les Kernels proposés sur Kaggle pour vous en inspirer.\n",
    "\n",
    "__Rendu__ : Vous devrez faire une présentation de quelques minutes pour nous expliquer votre travail, vos résultats, et votre retour (qu'est-ce que vous avez bien/mal fait, qu'est-ce que vous feriez différemment, les pistes d'améliorations...). Vous devrez également nous envoyer votre notebook __commenté__ !\n",
    "\n",
    "Bonne chance !"
   ]
  },
  {
   "cell_type": "markdown",
   "metadata": {},
   "source": [
    "----"
   ]
  },
  {
   "cell_type": "markdown",
   "metadata": {},
   "source": [
    "# TP"
   ]
  },
  {
   "cell_type": "code",
   "execution_count": 255,
   "metadata": {},
   "outputs": [],
   "source": [
    "import os, random\n",
    "import datetime\n",
    "import numpy as np\n",
    "import pandas as pd\n",
    "import cv2\n",
    "\n",
    "import matplotlib.pyplot as plt\n",
    "from matplotlib import ticker\n",
    "import seaborn as sns\n",
    "\n",
    "from keras.models import Sequential\n",
    "from keras.layers import Input, Dropout, Flatten, Convolution2D, MaxPooling2D, Dense, Activation\n",
    "from keras.optimizers import Adam\n",
    "from keras.callbacks import ModelCheckpoint, TensorBoard\n",
    "from keras.utils import np_utils\n",
    "from keras import backend"
   ]
  },
  {
   "cell_type": "markdown",
   "metadata": {},
   "source": [
    "## Import Data"
   ]
  },
  {
   "cell_type": "markdown",
   "metadata": {},
   "source": [
    "### Images"
   ]
  },
  {
   "cell_type": "markdown",
   "metadata": {},
   "source": [
    "#### Import"
   ]
  },
  {
   "cell_type": "code",
   "execution_count": 3,
   "metadata": {},
   "outputs": [],
   "source": [
    "TRAIN_DIR = 'datasets/train/'\n",
    "TEST_DIR = 'datasets/test/'\n",
    "\n",
    "ROWS = 64\n",
    "COLS = 64\n",
    "CHANNELS = 3\n",
    "\n",
    "train_images = [TRAIN_DIR+i for i in os.listdir(TRAIN_DIR)]\n",
    "test_images =  [TEST_DIR+i for i in os.listdir(TEST_DIR)]"
   ]
  },
  {
   "cell_type": "code",
   "execution_count": 199,
   "metadata": {},
   "outputs": [],
   "source": [
    "def read_image(file_path):\n",
    "    img = cv2.imread(file_path, cv2.IMREAD_COLOR)\n",
    "    return cv2.resize(img, (ROWS, COLS), interpolation=cv2.INTER_CUBIC)\n",
    "\n",
    "\n",
    "def prep_data(images):\n",
    "    count = len(images)\n",
    "    data = np.ndarray((count, ROWS, COLS, CHANNELS), dtype=np.uint8)\n",
    "\n",
    "    for i, image_file in enumerate(images):\n",
    "        image = read_image(image_file)\n",
    "        data[i] = image # nos données sont de la forme (64, 64, 3)\n",
    "        if i%250 == 0: print('Processed {} of {}'.format(i, count))\n",
    "    \n",
    "    return data\n"
   ]
  },
  {
   "cell_type": "code",
   "execution_count": 200,
   "metadata": {},
   "outputs": [
    {
     "name": "stdout",
     "output_type": "stream",
     "text": [
      "Processed 0 of 25000\n",
      "Processed 250 of 25000\n",
      "Processed 500 of 25000\n",
      "Processed 750 of 25000\n",
      "Processed 1000 of 25000\n",
      "Processed 1250 of 25000\n",
      "Processed 1500 of 25000\n",
      "Processed 1750 of 25000\n",
      "Processed 2000 of 25000\n",
      "Processed 2250 of 25000\n",
      "Processed 2500 of 25000\n",
      "Processed 2750 of 25000\n",
      "Processed 3000 of 25000\n",
      "Processed 3250 of 25000\n",
      "Processed 3500 of 25000\n",
      "Processed 3750 of 25000\n",
      "Processed 4000 of 25000\n",
      "Processed 4250 of 25000\n",
      "Processed 4500 of 25000\n",
      "Processed 4750 of 25000\n",
      "Processed 5000 of 25000\n",
      "Processed 5250 of 25000\n",
      "Processed 5500 of 25000\n",
      "Processed 5750 of 25000\n",
      "Processed 6000 of 25000\n",
      "Processed 6250 of 25000\n",
      "Processed 6500 of 25000\n",
      "Processed 6750 of 25000\n",
      "Processed 7000 of 25000\n",
      "Processed 7250 of 25000\n",
      "Processed 7500 of 25000\n",
      "Processed 7750 of 25000\n",
      "Processed 8000 of 25000\n",
      "Processed 8250 of 25000\n",
      "Processed 8500 of 25000\n",
      "Processed 8750 of 25000\n",
      "Processed 9000 of 25000\n",
      "Processed 9250 of 25000\n",
      "Processed 9500 of 25000\n",
      "Processed 9750 of 25000\n",
      "Processed 10000 of 25000\n",
      "Processed 10250 of 25000\n",
      "Processed 10500 of 25000\n",
      "Processed 10750 of 25000\n",
      "Processed 11000 of 25000\n",
      "Processed 11250 of 25000\n",
      "Processed 11500 of 25000\n",
      "Processed 11750 of 25000\n",
      "Processed 12000 of 25000\n",
      "Processed 12250 of 25000\n",
      "Processed 12500 of 25000\n",
      "Processed 12750 of 25000\n",
      "Processed 13000 of 25000\n",
      "Processed 13250 of 25000\n",
      "Processed 13500 of 25000\n",
      "Processed 13750 of 25000\n",
      "Processed 14000 of 25000\n",
      "Processed 14250 of 25000\n",
      "Processed 14500 of 25000\n",
      "Processed 14750 of 25000\n",
      "Processed 15000 of 25000\n",
      "Processed 15250 of 25000\n",
      "Processed 15500 of 25000\n",
      "Processed 15750 of 25000\n",
      "Processed 16000 of 25000\n",
      "Processed 16250 of 25000\n",
      "Processed 16500 of 25000\n",
      "Processed 16750 of 25000\n",
      "Processed 17000 of 25000\n",
      "Processed 17250 of 25000\n",
      "Processed 17500 of 25000\n",
      "Processed 17750 of 25000\n",
      "Processed 18000 of 25000\n",
      "Processed 18250 of 25000\n",
      "Processed 18500 of 25000\n",
      "Processed 18750 of 25000\n",
      "Processed 19000 of 25000\n",
      "Processed 19250 of 25000\n",
      "Processed 19500 of 25000\n",
      "Processed 19750 of 25000\n",
      "Processed 20000 of 25000\n",
      "Processed 20250 of 25000\n",
      "Processed 20500 of 25000\n",
      "Processed 20750 of 25000\n",
      "Processed 21000 of 25000\n",
      "Processed 21250 of 25000\n",
      "Processed 21500 of 25000\n",
      "Processed 21750 of 25000\n",
      "Processed 22000 of 25000\n",
      "Processed 22250 of 25000\n",
      "Processed 22500 of 25000\n",
      "Processed 22750 of 25000\n",
      "Processed 23000 of 25000\n",
      "Processed 23250 of 25000\n",
      "Processed 23500 of 25000\n",
      "Processed 23750 of 25000\n",
      "Processed 24000 of 25000\n",
      "Processed 24250 of 25000\n",
      "Processed 24500 of 25000\n",
      "Processed 24750 of 25000\n",
      "Processed 0 of 12500\n",
      "Processed 250 of 12500\n",
      "Processed 500 of 12500\n",
      "Processed 750 of 12500\n",
      "Processed 1000 of 12500\n",
      "Processed 1250 of 12500\n",
      "Processed 1500 of 12500\n",
      "Processed 1750 of 12500\n",
      "Processed 2000 of 12500\n",
      "Processed 2250 of 12500\n",
      "Processed 2500 of 12500\n",
      "Processed 2750 of 12500\n",
      "Processed 3000 of 12500\n",
      "Processed 3250 of 12500\n",
      "Processed 3500 of 12500\n",
      "Processed 3750 of 12500\n",
      "Processed 4000 of 12500\n",
      "Processed 4250 of 12500\n",
      "Processed 4500 of 12500\n",
      "Processed 4750 of 12500\n",
      "Processed 5000 of 12500\n",
      "Processed 5250 of 12500\n",
      "Processed 5500 of 12500\n",
      "Processed 5750 of 12500\n",
      "Processed 6000 of 12500\n",
      "Processed 6250 of 12500\n",
      "Processed 6500 of 12500\n",
      "Processed 6750 of 12500\n",
      "Processed 7000 of 12500\n",
      "Processed 7250 of 12500\n",
      "Processed 7500 of 12500\n",
      "Processed 7750 of 12500\n",
      "Processed 8000 of 12500\n",
      "Processed 8250 of 12500\n",
      "Processed 8500 of 12500\n",
      "Processed 8750 of 12500\n",
      "Processed 9000 of 12500\n",
      "Processed 9250 of 12500\n",
      "Processed 9500 of 12500\n",
      "Processed 9750 of 12500\n",
      "Processed 10000 of 12500\n",
      "Processed 10250 of 12500\n",
      "Processed 10500 of 12500\n",
      "Processed 10750 of 12500\n",
      "Processed 11000 of 12500\n",
      "Processed 11250 of 12500\n",
      "Processed 11500 of 12500\n",
      "Processed 11750 of 12500\n",
      "Processed 12000 of 12500\n",
      "Processed 12250 of 12500\n",
      "Train shape: (25000, 64, 64, 3)\n",
      "Test shape: (12500, 64, 64, 3)\n"
     ]
    }
   ],
   "source": [
    "train = prep_data(train_images)\n",
    "test = prep_data(test_images)\n",
    "\n",
    "print(\"Train shape: {}\".format(train.shape))\n",
    "print(\"Test shape: {}\".format(test.shape))"
   ]
  },
  {
   "cell_type": "markdown",
   "metadata": {},
   "source": [
    "### Normalization"
   ]
  },
  {
   "cell_type": "code",
   "execution_count": 201,
   "metadata": {},
   "outputs": [],
   "source": [
    "def normalize_images(images):\n",
    "    recaled_images = images/255\n",
    "    return recaled_images"
   ]
  },
  {
   "cell_type": "code",
   "execution_count": 206,
   "metadata": {},
   "outputs": [],
   "source": [
    "scaled_train = normalize_images(train)\n",
    "scaled_test = normalize_images(test)"
   ]
  },
  {
   "cell_type": "markdown",
   "metadata": {},
   "source": [
    "### Labels"
   ]
  },
  {
   "cell_type": "code",
   "execution_count": 207,
   "metadata": {},
   "outputs": [
    {
     "data": {
      "text/plain": [
       "<matplotlib.axes._subplots.AxesSubplot at 0x2086285ee80>"
      ]
     },
     "execution_count": 207,
     "metadata": {},
     "output_type": "execute_result"
    },
    {
     "data": {
      "image/png": "[encoded data removed]",
      "text/plain": [
       "<matplotlib.figure.Figure at 0x20862ca1be0>"
      ]
     },
     "metadata": {},
     "output_type": "display_data"
    }
   ],
   "source": [
    "labels = []\n",
    "for i in train_images:\n",
    "    if 'dog' in i:\n",
    "        labels.append(1)\n",
    "    else:\n",
    "        labels.append(0)\n",
    "\n",
    "sns.countplot(labels)"
   ]
  },
  {
   "cell_type": "markdown",
   "metadata": {},
   "source": [
    "### Plot"
   ]
  },
  {
   "cell_type": "code",
   "execution_count": 208,
   "metadata": {},
   "outputs": [],
   "source": [
    "def plot_image(idx):\n",
    "    print(\"Label : \" + str(labels[idx]))\n",
    "    plt.imshow(scaled_train[idx])\n",
    "    plt.show()"
   ]
  },
  {
   "cell_type": "code",
   "execution_count": 209,
   "metadata": {},
   "outputs": [],
   "source": [
    "ramdom_samples = np.random.randint(0, len(scaled_train), 5)"
   ]
  },
  {
   "cell_type": "code",
   "execution_count": 210,
   "metadata": {},
   "outputs": [
    {
     "name": "stdout",
     "output_type": "stream",
     "text": [
      "Label : 1\n"
     ]
    },
    {
     "data": {
      "image/png": "[encoded data removed]",
      "text/plain": [
       "<matplotlib.figure.Figure at 0x2086284eef0>"
      ]
     },
     "metadata": {},
     "output_type": "display_data"
    },
    {
     "name": "stdout",
     "output_type": "stream",
     "text": [
      "Label : 1\n"
     ]
    },
    {
     "data": {
      "image/png": "[encoded data removed]",
      "text/plain": [
       "<matplotlib.figure.Figure at 0x208631ea550>"
      ]
     },
     "metadata": {},
     "output_type": "display_data"
    },
    {
     "name": "stdout",
     "output_type": "stream",
     "text": [
      "Label : 0\n"
     ]
    },
    {
     "data": {
      "image/png": "[encoded data removed]",
      "text/plain": [
       "<matplotlib.figure.Figure at 0x2086268e438>"
      ]
     },
     "metadata": {},
     "output_type": "display_data"
    },
    {
     "name": "stdout",
     "output_type": "stream",
     "text": [
      "Label : 1\n"
     ]
    },
    {
     "data": {
      "image/png": "[encoded data removed]",
      "text/plain": [
       "<matplotlib.figure.Figure at 0x20862525b70>"
      ]
     },
     "metadata": {},
     "output_type": "display_data"
    },
    {
     "name": "stdout",
     "output_type": "stream",
     "text": [
      "Label : 0\n"
     ]
    },
    {
     "data": {
      "image/png": "[encoded data removed]",
      "text/plain": [
       "<matplotlib.figure.Figure at 0x208631e4908>"
      ]
     },
     "metadata": {},
     "output_type": "display_data"
    }
   ],
   "source": [
    "for i in ramdom_samples:\n",
    "    plot_image(i)"
   ]
  },
  {
   "cell_type": "markdown",
   "metadata": {},
   "source": [
    "## Model"
   ]
  },
  {
   "cell_type": "code",
   "execution_count": 226,
   "metadata": {},
   "outputs": [],
   "source": [
    "def model():\n",
    "    backend.clear_session()\n",
    "    model = Sequential()\n",
    "    \n",
    "    ###### Architecture ######\n",
    "    ##### Conv Layer 1 #####\n",
    "    model.add(Convolution2D(filters=32,\n",
    "                            kernel_size=(3, 3), \n",
    "                            strides=(1, 1),\n",
    "                            padding='same', \n",
    "                            input_shape=(ROWS, COLS, CHANNELS), \n",
    "                            activation='relu'))\n",
    "    model.add(MaxPooling2D(pool_size=(2, 2), strides=((2, 2))))\n",
    "    \n",
    "    ##### Conv Layer 2 #####\n",
    "    model.add(Convolution2D(filters=64,\n",
    "                            kernel_size=(3, 3), \n",
    "                            strides=(1, 1),\n",
    "                            padding='same',  \n",
    "                            activation='relu'))\n",
    "    model.add(MaxPooling2D(pool_size=(2, 2), strides=((2, 2))))\n",
    "    \n",
    "    ##### FeedForward #####\n",
    "    ## Hidden 1\n",
    "    model.add(Flatten())\n",
    "    model.add(Dense(128, activation='relu'))\n",
    "    ## Output\n",
    "    model.add(Dense(1))\n",
    "    model.add(Activation('sigmoid'))\n",
    "    \n",
    "    ###### Training ######\n",
    "    model.compile(loss='binary_crossentropy', optimizer=Adam(), metrics=['accuracy'])\n",
    "    \n",
    "    return model   "
   ]
  },
  {
   "cell_type": "markdown",
   "metadata": {},
   "source": [
    "## Training"
   ]
  },
  {
   "cell_type": "code",
   "execution_count": 263,
   "metadata": {},
   "outputs": [],
   "source": [
    "nb_epoch = 10\n",
    "batch_size = 16"
   ]
  },
  {
   "cell_type": "markdown",
   "metadata": {},
   "source": [
    "On log à chaque Epoch la loss et l'accuracy pour le train et la validation (avec comme nom la date ci-dessous)"
   ]
  },
  {
   "cell_type": "code",
   "execution_count": 267,
   "metadata": {},
   "outputs": [],
   "source": [
    "model_name = datetime.datetime.now().strftime(\"%Y-%m-%d_%H-%M\")"
   ]
  },
  {
   "cell_type": "code",
   "execution_count": 268,
   "metadata": {},
   "outputs": [],
   "source": [
    "tensorboard_callback = TensorBoard(log_dir='./Graph/' + model_name, write_graph=True, write_images=True)"
   ]
  },
  {
   "cell_type": "markdown",
   "metadata": {},
   "source": [
    "On sauvegarde le model à chaque Epoch si on a eu une amélioration sur l'accuracy du jeu de validation"
   ]
  },
  {
   "cell_type": "code",
   "execution_count": 270,
   "metadata": {},
   "outputs": [],
   "source": [
    "filepath=\"Models/\" + model_name + \"weights-improvement-{epoch:02d}-{val_acc:.2f}.hdf5\"\n",
    "checkpoint = ModelCheckpoint(filepath, monitor='val_acc', verbose=1, save_best_only=True, mode='max')"
   ]
  },
  {
   "cell_type": "code",
   "execution_count": 271,
   "metadata": {},
   "outputs": [],
   "source": [
    "def train_model(model):\n",
    "    model.fit(scaled_train, labels, batch_size=batch_size, nb_epoch=nb_epoch,\n",
    "              validation_split=0.25, verbose=1, shuffle=True, callbacks=[tensorboard_callback, checkpoint])"
   ]
  },
  {
   "cell_type": "code",
   "execution_count": 272,
   "metadata": {},
   "outputs": [],
   "source": [
    "first_model = model()"
   ]
  },
  {
   "cell_type": "code",
   "execution_count": 273,
   "metadata": {},
   "outputs": [
    {
     "name": "stdout",
     "output_type": "stream",
     "text": [
      "_________________________________________________________________\n",
      "Layer (type)                 Output Shape              Param #   \n",
      "=================================================================\n",
      "conv2d_1 (Conv2D)            (None, 64, 64, 32)        896       \n",
      "_________________________________________________________________\n",
      "max_pooling2d_1 (MaxPooling2 (None, 32, 32, 32)        0         \n",
      "_________________________________________________________________\n",
      "conv2d_2 (Conv2D)            (None, 32, 32, 64)        18496     \n",
      "_________________________________________________________________\n",
      "max_pooling2d_2 (MaxPooling2 (None, 16, 16, 64)        0         \n",
      "_________________________________________________________________\n",
      "flatten_1 (Flatten)          (None, 16384)             0         \n",
      "_________________________________________________________________\n",
      "dense_1 (Dense)              (None, 128)               2097280   \n",
      "_________________________________________________________________\n",
      "dense_2 (Dense)              (None, 1)                 129       \n",
      "_________________________________________________________________\n",
      "activation_1 (Activation)    (None, 1)                 0         \n",
      "=================================================================\n",
      "Total params: 2,116,801\n",
      "Trainable params: 2,116,801\n",
      "Non-trainable params: 0\n",
      "_________________________________________________________________\n"
     ]
    }
   ],
   "source": [
    "first_model.summary()"
   ]
  },
  {
   "cell_type": "code",
   "execution_count": 274,
   "metadata": {},
   "outputs": [
    {
     "name": "stderr",
     "output_type": "stream",
     "text": [
      "D:\\Programmes\\Anaconda3\\lib\\site-packages\\keras\\models.py:848: UserWarning: The `nb_epoch` argument in `fit` has been renamed `epochs`.\n",
      "  warnings.warn('The `nb_epoch` argument in `fit` '\n"
     ]
    },
    {
     "name": "stdout",
     "output_type": "stream",
     "text": [
      "Train on 18750 samples, validate on 6250 samples\n",
      "Epoch 1/1\n",
      "18736/18750 [============================>.] - ETA: 0s - loss: 0.5625 - acc: 0.7177Epoch 00000: val_acc improved from -inf to 0.56032, saving model to Models/2018-12-07_00-35weights-improvement-00-0.56.hdf5\n",
      "18750/18750 [==============================] - 95s - loss: 0.5624 - acc: 0.7178 - val_loss: 0.7727 - val_acc: 0.5603\n"
     ]
    }
   ],
   "source": [
    "train_model(first_model)"
   ]
  },
  {
   "cell_type": "markdown",
   "metadata": {},
   "source": [
    "## Prediction"
   ]
  },
  {
   "cell_type": "code",
   "execution_count": 241,
   "metadata": {},
   "outputs": [
    {
     "name": "stdout",
     "output_type": "stream",
     "text": [
      "12448/12500 [============================>.] - ETA: 0s"
     ]
    }
   ],
   "source": [
    "predictions = first_model.predict(scaled_test, verbose=1)"
   ]
  },
  {
   "cell_type": "code",
   "execution_count": 251,
   "metadata": {},
   "outputs": [],
   "source": [
    "final_df = pd.concat([\n",
    "    pd.Series(range(1, len(test)+1), name='id'),\n",
    "    pd.Series(predictions[:, 0], name='label')\n",
    "], axis=1)"
   ]
  },
  {
   "cell_type": "code",
   "execution_count": 252,
   "metadata": {},
   "outputs": [],
   "source": [
    "final_df.to_csv('test_submission.csv', index=False)"
   ]
  }
 ],
 "metadata": {
  "kernelspec": {
   "display_name": "Python 3",
   "language": "python",
   "name": "python3"
  },
  "language_info": {
   "codemirror_mode": {
    "name": "ipython",
    "version": 3
   },
   "file_extension": ".py",
   "mimetype": "text/x-python",
   "name": "python",
   "nbconvert_exporter": "python",
   "pygments_lexer": "ipython3",
   "version": "3.6.4"
  }
 },
 "nbformat": 4,
 "nbformat_minor": 2
}
